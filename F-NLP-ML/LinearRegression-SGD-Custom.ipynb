{
 "cells": [
  {
   "cell_type": "code",
   "execution_count": 3,
   "metadata": {},
   "outputs": [],
   "source": [
    "from sklearn.datasets import load_boston\n",
    "import warnings\n",
    "warnings.filterwarnings(\"ignore\")\n",
    "import pandas as pd\n",
    "import numpy as np\n",
    "import matplotlib.pyplot as plt\n",
    "\n",
    "boston = load_boston()"
   ]
  },
  {
   "cell_type": "code",
   "execution_count": 124,
   "metadata": {},
   "outputs": [
    {
     "name": "stdout",
     "output_type": "stream",
     "text": [
      ".. _boston_dataset:\n",
      "\n",
      "Boston house prices dataset\n",
      "---------------------------\n",
      "\n",
      "**Data Set Characteristics:**  \n",
      "\n",
      "    :Number of Instances: 506 \n",
      "\n",
      "    :Number of Attributes: 13 numeric/categorical predictive. Median Value (attribute 14) is usually the target.\n",
      "\n",
      "    :Attribute Information (in order):\n",
      "        - CRIM     per capita crime rate by town\n",
      "        - ZN       proportion of residential land zoned for lots over 25,000 sq.ft.\n",
      "        - INDUS    proportion of non-retail business acres per town\n",
      "        - CHAS     Charles River dummy variable (= 1 if tract bounds river; 0 otherwise)\n",
      "        - NOX      nitric oxides concentration (parts per 10 million)\n",
      "        - RM       average number of rooms per dwelling\n",
      "        - AGE      proportion of owner-occupied units built prior to 1940\n",
      "        - DIS      weighted distances to five Boston employment centres\n",
      "        - RAD      index of accessibility to radial highways\n",
      "        - TAX      full-value property-tax rate per $10,000\n",
      "        - PTRATIO  pupil-teacher ratio by town\n",
      "        - B        1000(Bk - 0.63)^2 where Bk is the proportion of blacks by town\n",
      "        - LSTAT    % lower status of the population\n",
      "        - MEDV     Median value of owner-occupied homes in $1000's\n",
      "\n",
      "    :Missing Attribute Values: None\n",
      "\n",
      "    :Creator: Harrison, D. and Rubinfeld, D.L.\n",
      "\n",
      "This is a copy of UCI ML housing dataset.\n",
      "https://archive.ics.uci.edu/ml/machine-learning-databases/housing/\n",
      "\n",
      "\n",
      "This dataset was taken from the StatLib library which is maintained at Carnegie Mellon University.\n",
      "\n",
      "The Boston house-price data of Harrison, D. and Rubinfeld, D.L. 'Hedonic\n",
      "prices and the demand for clean air', J. Environ. Economics & Management,\n",
      "vol.5, 81-102, 1978.   Used in Belsley, Kuh & Welsch, 'Regression diagnostics\n",
      "...', Wiley, 1980.   N.B. Various transformations are used in the table on\n",
      "pages 244-261 of the latter.\n",
      "\n",
      "The Boston house-price data has been used in many machine learning papers that address regression\n",
      "problems.   \n",
      "     \n",
      ".. topic:: References\n",
      "\n",
      "   - Belsley, Kuh & Welsch, 'Regression diagnostics: Identifying Influential Data and Sources of Collinearity', Wiley, 1980. 244-261.\n",
      "   - Quinlan,R. (1993). Combining Instance-Based and Model-Based Learning. In Proceedings on the Tenth International Conference of Machine Learning, 236-243, University of Massachusetts, Amherst. Morgan Kaufmann.\n",
      "\n"
     ]
    }
   ],
   "source": [
    "print(boston.DESCR)"
   ]
  },
  {
   "cell_type": "code",
   "execution_count": 4,
   "metadata": {},
   "outputs": [
    {
     "name": "stdout",
     "output_type": "stream",
     "text": [
      "(506, 13)\n"
     ]
    }
   ],
   "source": [
    "print(boston.data.shape)"
   ]
  },
  {
   "cell_type": "code",
   "execution_count": 5,
   "metadata": {
    "scrolled": true
   },
   "outputs": [
    {
     "name": "stdout",
     "output_type": "stream",
     "text": [
      "['CRIM' 'ZN' 'INDUS' 'CHAS' 'NOX' 'RM' 'AGE' 'DIS' 'RAD' 'TAX' 'PTRATIO'\n",
      " 'B' 'LSTAT']\n"
     ]
    }
   ],
   "source": [
    "print(boston.feature_names)"
   ]
  },
  {
   "cell_type": "code",
   "execution_count": 166,
   "metadata": {},
   "outputs": [
    {
     "data": {
      "text/html": [
       "<div>\n",
       "<style scoped>\n",
       "    .dataframe tbody tr th:only-of-type {\n",
       "        vertical-align: middle;\n",
       "    }\n",
       "\n",
       "    .dataframe tbody tr th {\n",
       "        vertical-align: top;\n",
       "    }\n",
       "\n",
       "    .dataframe thead th {\n",
       "        text-align: right;\n",
       "    }\n",
       "</style>\n",
       "<table border=\"1\" class=\"dataframe\">\n",
       "  <thead>\n",
       "    <tr style=\"text-align: right;\">\n",
       "      <th></th>\n",
       "      <th>0</th>\n",
       "      <th>1</th>\n",
       "      <th>2</th>\n",
       "      <th>3</th>\n",
       "      <th>4</th>\n",
       "      <th>5</th>\n",
       "      <th>6</th>\n",
       "      <th>7</th>\n",
       "      <th>8</th>\n",
       "      <th>9</th>\n",
       "      <th>10</th>\n",
       "      <th>11</th>\n",
       "      <th>12</th>\n",
       "      <th>13</th>\n",
       "    </tr>\n",
       "  </thead>\n",
       "  <tbody>\n",
       "    <tr>\n",
       "      <th>0</th>\n",
       "      <td>0.00632</td>\n",
       "      <td>18.0</td>\n",
       "      <td>2.31</td>\n",
       "      <td>0.0</td>\n",
       "      <td>0.538</td>\n",
       "      <td>6.575</td>\n",
       "      <td>65.2</td>\n",
       "      <td>4.0900</td>\n",
       "      <td>1.0</td>\n",
       "      <td>296.0</td>\n",
       "      <td>15.3</td>\n",
       "      <td>396.90</td>\n",
       "      <td>4.98</td>\n",
       "      <td>45.019011</td>\n",
       "    </tr>\n",
       "    <tr>\n",
       "      <th>1</th>\n",
       "      <td>0.02731</td>\n",
       "      <td>0.0</td>\n",
       "      <td>7.07</td>\n",
       "      <td>0.0</td>\n",
       "      <td>0.469</td>\n",
       "      <td>6.421</td>\n",
       "      <td>78.9</td>\n",
       "      <td>4.9671</td>\n",
       "      <td>2.0</td>\n",
       "      <td>242.0</td>\n",
       "      <td>17.8</td>\n",
       "      <td>396.90</td>\n",
       "      <td>9.14</td>\n",
       "      <td>37.688834</td>\n",
       "    </tr>\n",
       "    <tr>\n",
       "      <th>2</th>\n",
       "      <td>0.02729</td>\n",
       "      <td>0.0</td>\n",
       "      <td>7.07</td>\n",
       "      <td>0.0</td>\n",
       "      <td>0.469</td>\n",
       "      <td>7.185</td>\n",
       "      <td>61.1</td>\n",
       "      <td>4.9671</td>\n",
       "      <td>2.0</td>\n",
       "      <td>242.0</td>\n",
       "      <td>17.8</td>\n",
       "      <td>392.83</td>\n",
       "      <td>4.03</td>\n",
       "      <td>33.681280</td>\n",
       "    </tr>\n",
       "    <tr>\n",
       "      <th>3</th>\n",
       "      <td>0.03237</td>\n",
       "      <td>0.0</td>\n",
       "      <td>2.18</td>\n",
       "      <td>0.0</td>\n",
       "      <td>0.458</td>\n",
       "      <td>6.998</td>\n",
       "      <td>45.8</td>\n",
       "      <td>6.0622</td>\n",
       "      <td>3.0</td>\n",
       "      <td>222.0</td>\n",
       "      <td>18.7</td>\n",
       "      <td>394.63</td>\n",
       "      <td>2.94</td>\n",
       "      <td>31.723350</td>\n",
       "    </tr>\n",
       "    <tr>\n",
       "      <th>4</th>\n",
       "      <td>0.06905</td>\n",
       "      <td>0.0</td>\n",
       "      <td>2.18</td>\n",
       "      <td>0.0</td>\n",
       "      <td>0.458</td>\n",
       "      <td>7.147</td>\n",
       "      <td>54.2</td>\n",
       "      <td>6.0622</td>\n",
       "      <td>3.0</td>\n",
       "      <td>222.0</td>\n",
       "      <td>18.7</td>\n",
       "      <td>396.90</td>\n",
       "      <td>5.33</td>\n",
       "      <td>31.061984</td>\n",
       "    </tr>\n",
       "  </tbody>\n",
       "</table>\n",
       "</div>"
      ],
      "text/plain": [
       "        0     1     2    3      4      5     6       7    8      9     10  \\\n",
       "0  0.00632  18.0  2.31  0.0  0.538  6.575  65.2  4.0900  1.0  296.0  15.3   \n",
       "1  0.02731   0.0  7.07  0.0  0.469  6.421  78.9  4.9671  2.0  242.0  17.8   \n",
       "2  0.02729   0.0  7.07  0.0  0.469  7.185  61.1  4.9671  2.0  242.0  17.8   \n",
       "3  0.03237   0.0  2.18  0.0  0.458  6.998  45.8  6.0622  3.0  222.0  18.7   \n",
       "4  0.06905   0.0  2.18  0.0  0.458  7.147  54.2  6.0622  3.0  222.0  18.7   \n",
       "\n",
       "       11    12         13  \n",
       "0  396.90  4.98  45.019011  \n",
       "1  396.90  9.14  37.688834  \n",
       "2  392.83  4.03  33.681280  \n",
       "3  394.63  2.94  31.723350  \n",
       "4  396.90  5.33  31.061984  "
      ]
     },
     "execution_count": 166,
     "metadata": {},
     "output_type": "execute_result"
    }
   ],
   "source": [
    "import pandas as pd\n",
    "\n",
    "bos = pd.DataFrame(boston.data)\n",
    "bos[13] = bos[9] / bos[5]\n",
    "\n",
    "bos.head()"
   ]
  },
  {
   "cell_type": "code",
   "execution_count": 167,
   "metadata": {},
   "outputs": [
    {
     "data": {
      "text/plain": [
       "0        0.0\n",
       "1        0.0\n",
       "2        0.0\n",
       "3        0.0\n",
       "4        0.0\n",
       "5        0.0\n",
       "6        0.0\n",
       "7        0.0\n",
       "8        0.0\n",
       "9        0.0\n",
       "10       0.0\n",
       "11       0.0\n",
       "12       0.0\n",
       "13       0.0\n",
       "PRICE    0.0\n",
       "dtype: float64"
      ]
     },
     "execution_count": 167,
     "metadata": {},
     "output_type": "execute_result"
    }
   ],
   "source": [
    "bos['PRICE'] = boston.target\n",
    "\n",
    "X = bos.drop('PRICE', axis = 1)\n",
    "Y = bos['PRICE']\n",
    "bos.isnull().sum()/len(bos)*100"
   ]
  },
  {
   "cell_type": "code",
   "execution_count": 168,
   "metadata": {},
   "outputs": [
    {
     "name": "stdout",
     "output_type": "stream",
     "text": [
      "(354, 14)\n",
      "(152, 14)\n",
      "(354,)\n",
      "(152,)\n"
     ]
    }
   ],
   "source": [
    "import sklearn.model_selection\n",
    "X_train, X_test, Y_train, Y_test = sklearn.model_selection.train_test_split(X, Y, test_size = 0.30, random_state = 5)\n",
    "print(X_train.shape)\n",
    "print(X_test.shape)\n",
    "print(Y_train.shape)\n",
    "print(Y_test.shape)"
   ]
  },
  {
   "cell_type": "code",
   "execution_count": 169,
   "metadata": {},
   "outputs": [
    {
     "name": "stdout",
     "output_type": "stream",
     "text": [
      "(354, 1)\n",
      "% of NaN Before Imputation in Price: 0.0\n"
     ]
    }
   ],
   "source": [
    "from sklearn import preprocessing\n",
    "std_bos_df = preprocessing.StandardScaler()\n",
    "X_train = std_bos_df.fit_transform(X_train)\n",
    "X_test=std_bos_df.transform(X_test)\n",
    "\n",
    "y_im = pd.DataFrame(Y_train)\n",
    "print(y_im.shape)\n",
    "df_bos_train=pd.DataFrame(X_train)\n",
    "\n",
    "y_im = y_im.set_index(df_bos_train.index)\n",
    "\n",
    "df_bos_train['PRICE']= y_im\n",
    "\n",
    "print(\"% of NaN Before Imputation in Price:\",df_bos_train['PRICE'].isnull().sum()/len(df_bos_train['PRICE'])*100)"
   ]
  },
  {
   "cell_type": "code",
   "execution_count": 279,
   "metadata": {},
   "outputs": [
    {
     "name": "stdout",
     "output_type": "stream",
     "text": [
      "[[-1.37163245  0.52817301 -0.39275729  0.55479905 -1.52170195  3.50634205\n",
      "  -0.15674415 -2.61813126  1.55146337 -2.85075079 -2.05521214  1.21896225\n",
      "  -3.42755678  2.95869578]]\n",
      "[22.70937411]\n",
      "MEAN SQUARED ERROR = 27.38496830104027\n"
     ]
    }
   ],
   "source": [
    "#Function to sample the dataset randomly into equal batch size.\n",
    "from sklearn.metrics import mean_squared_error\n",
    "\n",
    "def random_sampling(dataset,batch_size):\n",
    "    data_rand=dataset.sample(batch_size)\n",
    "    x=np.array(data_rand.drop('PRICE',axis=1))\n",
    "    y=np.array(data_rand['PRICE'])\n",
    "    return x,y\n",
    "\n",
    "def sgd_manual_algo(bsize):\n",
    "    Wj,Bj,iteration,lr,k=np.zeros(shape=(1,14)),0,1000,0.01,len(X_train[:bsize])\n",
    "\n",
    "    while iteration >=0:\n",
    "        w0,b0,w_interm,b_interm=Wj,Bj,np.zeros(shape=(1,14)),0\n",
    "        \n",
    "        x,y =random_sampling(df_bos_train,bsize)\n",
    "        for i in range(k):\n",
    "            w_interm+=(-2)*x[i]*(y[i]-(np.dot(w0,x[i])+b0))\n",
    "            b_interm+=(-2)*(y[i]-(np.dot(w0,x[i])+b0))\n",
    "\n",
    "        Wj=(w0-lr*(w_interm)/k)\n",
    "        Bj=(b0-lr*(b_interm)/k)\n",
    "\n",
    "        iteration-=1\n",
    "\n",
    "    print(Wj)\n",
    "    print(Bj)\n",
    "    return Wj,Bj\n",
    " \n",
    "W,B = sgd_manual_algo(22)\n",
    "\n",
    "Y_pred_m=list()\n",
    "\n",
    "for i in range(len(X_test)):\n",
    "    Y_lr=np.dot(W,X_test[i])+B\n",
    "    Y_pred_m.append(np.asscalar(Y_lr))\n",
    "    \n",
    "MSE_custom=mean_squared_error(Y_test,Y_pred_m)\n",
    "print('MEAN SQUARED ERROR =',MSE_custom)"
   ]
  },
  {
   "cell_type": "code",
   "execution_count": 280,
   "metadata": {},
   "outputs": [
    {
     "data": {
      "image/png": "[encoded data removed]",
      "text/plain": [
       "<Figure size 432x288 with 1 Axes>"
      ]
     },
     "metadata": {
      "needs_background": "light"
     },
     "output_type": "display_data"
    }
   ],
   "source": [
    "#Plot a chart of predicted values Vs actual values of your own SGD Implementation\n",
    "\n",
    "plt.scatter(Y_test,Y_pred_m)\n",
    "plt.xlabel('Actual values')\n",
    "plt.ylabel('predicted values ')\n",
    "plt.title('Actual values vs Predicted values')\n",
    "plt.show()"
   ]
  },
  {
   "cell_type": "code",
   "execution_count": 281,
   "metadata": {},
   "outputs": [
    {
     "data": {
      "image/png": "[encoded data removed]",
      "text/plain": [
       "<Figure size 432x288 with 1 Axes>"
      ]
     },
     "metadata": {
      "needs_background": "light"
     },
     "output_type": "display_data"
    },
    {
     "name": "stdout",
     "output_type": "stream",
     "text": [
      "Mean squared error = 27.880064579736498\n"
     ]
    }
   ],
   "source": [
    "#SGDRegresser of sklearn and plot the chart of predicted values Vs actual values\n",
    "from sklearn.linear_model import SGDRegressor\n",
    "\n",
    "sgd = SGDRegressor(penalty='none', max_iter=1000, learning_rate='constant' , eta0=0.0001  )\n",
    "sgd.fit(X_train,Y_train)\n",
    "Y_pred=sgd.predict(X_test)\n",
    "\n",
    "#Scatter plot of actual price vs predicted price\n",
    "\n",
    "plt.scatter(Y_test,Y_pred)\n",
    "plt.xlabel('Actual price')\n",
    "plt.ylabel('Predictd price')\n",
    "plt.title('Actual price vs Predicted price')\n",
    "plt.show()\n",
    "\n",
    "\n",
    "MSE_sgd=mean_squared_error(Y_test,Y_pred)\n",
    "print('Mean squared error =',MSE_sgd)"
   ]
  },
  {
   "cell_type": "code",
   "execution_count": 282,
   "metadata": {},
   "outputs": [
    {
     "name": "stdout",
     "output_type": "stream",
     "text": [
      "+-------+-----------------------+--------------------------+\n",
      "| Slno. | Weights of Custom SGD | Weights of Sklearn's SGD |\n",
      "+-------+-----------------------+--------------------------+\n",
      "|   1   |  -1.3716324487575042  |   -1.3177447865732506    |\n",
      "|   2   |   0.5281730145138223  |    0.6526982243055022    |\n",
      "|   3   |   -0.392757291496635  |   -0.34244066329985745   |\n",
      "|   4   |   0.5547990515314373  |   0.28513727421202706    |\n",
      "|   5   |  -1.5217019549207385  |   -1.4795832609695638    |\n",
      "|   6   |   3.506342052631647   |    4.225025109380996     |\n",
      "|   7   |  -0.15674414857582317 |   -0.43204853185480363   |\n",
      "|   8   |   -2.618131264367066  |    -2.508404650292634    |\n",
      "|   9   |   1.5514633685649513  |    1.5496283724197397    |\n",
      "|   10  |   -2.850750785407021  |    -5.027328880608492    |\n",
      "|   11  |  -2.0552121387537428  |    -1.992086897683327    |\n",
      "|   12  |   1.2189622517462435  |    1.0910122593526943    |\n",
      "|   13  |   -3.427556781310923  |    -3.071364909413779    |\n",
      "|   14  |   2.958695781279775   |    4.785825228298631     |\n",
      "+-------+-----------------------+--------------------------+\n"
     ]
    }
   ],
   "source": [
    "#In a tabular format,compare the weights obtained from your own \n",
    "#implementation with the weights obtained after applying sklearn's SGDRegresser.\n",
    "\n",
    "# Creating the table using PrettyTable library\n",
    "\n",
    "from prettytable import PrettyTable\n",
    "\n",
    "\n",
    "Serialno = [1,2,3,4,5,6,7,8,9,10,11,12,13,14]\n",
    "\n",
    "sgd_weights = sgd.coef_ \n",
    "table = PrettyTable()\n",
    "table.add_column(\"Slno.\",Serialno)\n",
    "table.add_column(\"Weights of Custom SGD\",W.ravel())\n",
    "table.add_column(\"Weights of Sklearn's SGD\",sgd_weights)\n",
    "\n",
    "# Printing the Table\n",
    "print(table)"
   ]
  },
  {
   "cell_type": "code",
   "execution_count": 283,
   "metadata": {},
   "outputs": [
    {
     "data": {
      "image/png": "[encoded data removed]",
      "text/plain": [
       "<Figure size 432x288 with 1 Axes>"
      ]
     },
     "metadata": {
      "needs_background": "light"
     },
     "output_type": "display_data"
    }
   ],
   "source": [
    "# Scatter Plot of the predictions of both manual SGD Regression and Sklearn's SGD Regression\n",
    "plt.scatter(Y_pred_m, Y_pred)\n",
    "plt.xlabel(\"Pred Custom SGD\",size=20)\n",
    "plt.ylabel(\"Pred of Sklearn's SGD\",size=20)\n",
    "plt.title(\"Custom SGD VS Sklearn's SGD \",size=20)\n",
    "plt.show()"
   ]
  },
  {
   "cell_type": "code",
   "execution_count": 285,
   "metadata": {},
   "outputs": [
    {
     "name": "stdout",
     "output_type": "stream",
     "text": [
      "Mean Squared Error the custom SGD     :  27.38496830104027\n",
      "Mean Squared Error the Sklearn's  SGD :  27.880064579736498\n"
     ]
    }
   ],
   "source": [
    "# Mean Squared Error (MSE)\n",
    "print(\"Mean Squared Error the custom SGD     : \",MSE_custom)\n",
    "print(\"Mean Squared Error the Sklearn's  SGD : \",MSE_sgd)"
   ]
  },
  {
   "cell_type": "code",
   "execution_count": null,
   "metadata": {},
   "outputs": [],
   "source": []
  }
 ],
 "metadata": {
  "kernelspec": {
   "display_name": "Python 3",
   "language": "python",
   "name": "python3"
  },
  "language_info": {
   "codemirror_mode": {
    "name": "ipython",
    "version": 3
   },
   "file_extension": ".py",
   "mimetype": "text/x-python",
   "name": "python",
   "nbconvert_exporter": "python",
   "pygments_lexer": "ipython3",
   "version": "3.7.3"
  }
 },
 "nbformat": 4,
 "nbformat_minor": 2
}
